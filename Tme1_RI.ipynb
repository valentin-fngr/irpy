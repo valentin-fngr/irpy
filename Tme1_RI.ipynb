{
 "cells": [
  {
   "cell_type": "code",
   "execution_count": 21,
   "metadata": {},
   "outputs": [],
   "source": [
    "from collections import Counter\n",
    "from porter import stem\n",
    "import re\n",
    "import numpy as np\n",
    "\n",
    "doc1='the new home has been saled on top forecasts'\n",
    "doc2='the home sales rise in july'\n",
    "doc3 ='there is an increase in home sales in july'\n",
    "doc4='july encounter a new home sales rise'\n",
    "mots_vides=['the', 'a','an', 'on', 'behind', 'under', 'there', 'in', 'on']\n",
    "\n",
    "docs=[doc1,doc2,doc3,doc4]\n"
   ]
  },
  {
   "cell_type": "markdown",
   "metadata": {},
   "source": [
    "### Q 1.1"
   ]
  },
  {
   "cell_type": "code",
   "execution_count": 38,
   "metadata": {},
   "outputs": [],
   "source": [
    "def process_doc(doc): \n",
    "    doc = doc.lower()\n",
    "    l = [stem(word) for word in doc.split(\" \") if word not in mots_vides]\n",
    "    counts = Counter(l)\n",
    "    return counts\n",
    "    "
   ]
  },
  {
   "cell_type": "code",
   "execution_count": 39,
   "metadata": {},
   "outputs": [
    {
     "data": {
      "text/plain": [
       "Counter({'new': 1,\n",
       "         'home': 1,\n",
       "         'ha': 1,\n",
       "         'been': 1,\n",
       "         'sale': 1,\n",
       "         'top': 1,\n",
       "         'forecast': 1})"
      ]
     },
     "execution_count": 39,
     "metadata": {},
     "output_type": "execute_result"
    }
   ],
   "source": [
    "process_doc(doc1)"
   ]
  },
  {
   "cell_type": "markdown",
   "metadata": {},
   "source": [
    "### Q 1.2"
   ]
  },
  {
   "cell_type": "code",
   "execution_count": 124,
   "metadata": {},
   "outputs": [],
   "source": [
    "def build_index(docs):\n",
    "    \"\"\"\n",
    "        Construit la table index\n",
    "    \"\"\"\n",
    "    \n",
    "    d = {}\n",
    "    for i, doc in enumerate(docs): \n",
    "        doc = doc.lower()\n",
    "        l = [stem(word) for word in doc.split(\" \") if word not in mots_vides]\n",
    "        counts = Counter(l)\n",
    "    return d\n",
    "\n",
    "def build_index_inv(docs): \n",
    "    \"\"\"\n",
    "        Retourne la tablea index inversée\n",
    "        # TODO : écrire à partir de build_index\n",
    "    \"\"\"\n",
    "    d = {}   \n",
    "    for i, doc in enumerate(docs): \n",
    "        doc = doc.lower()\n",
    "        for word in doc.split(\" \"): \n",
    "            if word not in mots_vides: \n",
    "                word = stem(word)\n",
    "                if word not in d: \n",
    "                    d[word] = {}\n",
    "                d[word][i] = 1\n",
    "\n",
    "    return d"
   ]
  },
  {
   "cell_type": "code",
   "execution_count": 125,
   "metadata": {},
   "outputs": [
    {
     "name": "stdout",
     "output_type": "stream",
     "text": [
      "{0: Counter({'new': 1, 'home': 1, 'ha': 1, 'been': 1, 'sale': 1, 'top': 1, 'forecast': 1}), 1: Counter({'home': 1, 'sale': 1, 'rise': 1, 'juli': 1}), 2: Counter({'is': 1, 'increas': 1, 'home': 1, 'sale': 1, 'juli': 1}), 3: Counter({'juli': 1, 'encount': 1, 'new': 1, 'home': 1, 'sale': 1, 'rise': 1})}\n",
      "\n",
      "{'new': {0: 1, 3: 1}, 'home': {0: 1, 1: 1, 2: 1, 3: 1}, 'ha': {0: 1}, 'been': {0: 1}, 'sale': {0: 1, 1: 1, 2: 1, 3: 1}, 'top': {0: 1}, 'forecast': {0: 1}, 'rise': {1: 1, 3: 1}, 'juli': {1: 1, 2: 1, 3: 1}, 'is': {2: 1}, 'increas': {2: 1}, 'encount': {3: 1}}\n"
     ]
    }
   ],
   "source": [
    "corpus = [doc1, doc2, doc3, doc4]\n",
    "index_base = build_index(corpus)\n",
    "index_inv = build_index_inv(corpus)\n",
    "print(index)\n",
    "print()\n",
    "print(index_inv)"
   ]
  },
  {
   "cell_type": "markdown",
   "metadata": {},
   "source": [
    "### Q 1.3 : \n",
    "\n",
    "\n",
    "#### Note perso : Créer une classe pour regrouper l'intégralité des méthodes "
   ]
  },
  {
   "cell_type": "code",
   "execution_count": 115,
   "metadata": {},
   "outputs": [],
   "source": [
    "def build_index_tfidf(docs, index_inv, index, norm=True): \n",
    "    \"\"\"\n",
    "        Retourne la table index avec un score tfidf \n",
    "        Argument: \n",
    "            docs : corpus \n",
    "            index_inv : index_inv avec les occurences \n",
    "            index : index avec les occurences \n",
    "            norm : ajout ou non de normalisation \n",
    "    \"\"\"\n",
    "    d = {}\n",
    "    for i, doc in enumerate(docs): # boucle 1\n",
    "        d[i] = {}\n",
    "        doc = doc.lower()\n",
    "        norm_cst = 0\n",
    "        for word in index_inv: # boucle 2\n",
    "            tfidf = (index[i][word]/len(index[i])) * np.log((len(docs)/len(index_inv[word])))\n",
    "            d[i][word] = tfidf \n",
    "            norm_cst += tfidf \n",
    "                \n",
    "        if norm: \n",
    "            for word in d[i]: \n",
    "                d[i][word] = d[i][word] / norm_cst\n",
    "    return d\n",
    "\n",
    "\n",
    "def build_index_inv_tfidf(docs, index_tfidf): \n",
    "    \"\"\"\n",
    "        Construction de l'index inverse avec tfidf\n",
    "        Arg: \n",
    "            docs : corpus \n",
    "            index_tfidf : index tfidf\n",
    "    \"\"\"\n",
    "    d = {}\n",
    "    for word in index_tfidf[0]: \n",
    "        d[word] = {}\n",
    "        for doc_idx in index_tfidf:\n",
    "            d[word][doc_idx] = index_tfidf[doc_idx][word]\n",
    "                        \n",
    "    return d"
   ]
  },
  {
   "cell_type": "code",
   "execution_count": 123,
   "metadata": {},
   "outputs": [
    {
     "name": "stdout",
     "output_type": "stream",
     "text": [
      "{0: {'new': 0.1111111111111111, 'home': 0.0, 'ha': 0.2222222222222222, 'been': 0.2222222222222222, 'sale': 0.0, 'top': 0.2222222222222222, 'forecast': 0.2222222222222222, 'rise': 0.0, 'juli': 0.0, 'is': 0.0, 'increas': 0.0, 'encount': 0.0}, 1: {'new': 0.0, 'home': 0.0, 'ha': 0.0, 'been': 0.0, 'sale': 0.0, 'top': 0.0, 'forecast': 0.0, 'rise': 0.7066950526114237, 'juli': 0.2933049473885762, 'is': 0.0, 'increas': 0.0, 'encount': 0.0}, 2: {'new': 0.0, 'home': 0.0, 'ha': 0.0, 'been': 0.0, 'sale': 0.0, 'top': 0.0, 'forecast': 0.0, 'rise': 0.0, 'juli': 0.09400543015696614, 'is': 0.4529972849215169, 'increas': 0.4529972849215169, 'encount': 0.0}, 3: {'new': 0.2264986424607585, 'home': 0.0, 'ha': 0.0, 'been': 0.0, 'sale': 0.0, 'top': 0.0, 'forecast': 0.0, 'rise': 0.2264986424607585, 'juli': 0.09400543015696614, 'is': 0.0, 'increas': 0.0, 'encount': 0.452997284921517}}\n",
      "\n",
      "{0: {'new': 0.1111111111111111, 'home': 0.0, 'ha': 0.2222222222222222, 'been': 0.2222222222222222, 'sale': 0.0, 'top': 0.2222222222222222, 'forecast': 0.2222222222222222, 'rise': 0.0, 'juli': 0.0, 'is': 0.0, 'increas': 0.0, 'encount': 0.0}, 1: {'new': 0.0, 'home': 0.0, 'ha': 0.0, 'been': 0.0, 'sale': 0.0, 'top': 0.0, 'forecast': 0.0, 'rise': 0.7066950526114237, 'juli': 0.2933049473885762, 'is': 0.0, 'increas': 0.0, 'encount': 0.0}, 2: {'new': 0.0, 'home': 0.0, 'ha': 0.0, 'been': 0.0, 'sale': 0.0, 'top': 0.0, 'forecast': 0.0, 'rise': 0.0, 'juli': 0.09400543015696614, 'is': 0.4529972849215169, 'increas': 0.4529972849215169, 'encount': 0.0}, 3: {'new': 0.2264986424607585, 'home': 0.0, 'ha': 0.0, 'been': 0.0, 'sale': 0.0, 'top': 0.0, 'forecast': 0.0, 'rise': 0.2264986424607585, 'juli': 0.09400543015696614, 'is': 0.0, 'increas': 0.0, 'encount': 0.452997284921517}}\n"
     ]
    }
   ],
   "source": [
    "index_tfidf = build_index_tfidf(corpus, index_inv, index_base)\n",
    "inverse_tfidf = build_index_inv_tfidf(corpus, index_tfidf)\n",
    "print(index_tfidf)\n",
    "print()\n",
    "print(index_tfidf)"
   ]
  },
  {
   "cell_type": "markdown",
   "metadata": {},
   "source": [
    "## Exercice 2"
   ]
  },
  {
   "cell_type": "markdown",
   "metadata": {},
   "source": [
    "### Q 2.2"
   ]
  },
  {
   "cell_type": "code",
   "execution_count": 171,
   "metadata": {},
   "outputs": [
    {
     "data": {
      "text/plain": [
       "{0: 1, 1: 0, 2: 0, 3: 0}"
      ]
     },
     "execution_count": 171,
     "metadata": {},
     "output_type": "execute_result"
    }
   ],
   "source": [
    "def bool_score(q, index_inv, nb_doc): \n",
    "    \"\"\"\n",
    "        retourne la liste des documents contenant les mots de le requête\n",
    "    \"\"\"\n",
    "    d = {k:0 for k in range(nb_doc)}\n",
    "    q = transfo_and_split(q)\n",
    "    \n",
    "    for word in q: \n",
    "        doc_word = index_inv[word]\n",
    "        for doc in doc_word: \n",
    "            d[int(doc)] += 1\n",
    "    \n",
    "    for k in d: \n",
    "        if d[k] == len(q): \n",
    "            d[k] = 1\n",
    "        else: \n",
    "            d[k] = 0\n",
    "        \n",
    "    return d\n",
    "        \n",
    "        \n",
    "bool_score(\"home sales top\", index_inv, 4)"
   ]
  },
  {
   "cell_type": "markdown",
   "metadata": {},
   "source": [
    "### Q 2.3"
   ]
  },
  {
   "cell_type": "code",
   "execution_count": 176,
   "metadata": {},
   "outputs": [],
   "source": [
    "def vector_score(q, index_inv): \n",
    "    q = transfo_and_split(q)\n",
    "    result = {}\n",
    "    for word in q: \n",
    "        for doc, score in index_inv[word].items(): \n",
    "            print(f\"Pour le mot : {word} | {(doc, score)}\")\n",
    "            if doc not in result:\n",
    "                result[doc] = score\n",
    "            else: \n",
    "                result[doc] += score\n",
    "    \n",
    "    result = dict(sorted(result.items(), key=lambda val : val[1], reverse=True))\n",
    "    return result\n",
    "        "
   ]
  },
  {
   "cell_type": "code",
   "execution_count": 177,
   "metadata": {},
   "outputs": [
    {
     "name": "stdout",
     "output_type": "stream",
     "text": [
      "Pour le mot : home | (0, 0.0)\n",
      "Pour le mot : home | (1, 0.0)\n",
      "Pour le mot : home | (2, 0.0)\n",
      "Pour le mot : home | (3, 0.0)\n",
      "Pour le mot : sale | (0, 0.0)\n",
      "Pour le mot : sale | (1, 0.0)\n",
      "Pour le mot : sale | (2, 0.0)\n",
      "Pour le mot : sale | (3, 0.0)\n",
      "Pour le mot : top | (0, 0.2222222222222222)\n",
      "Pour le mot : top | (1, 0.0)\n",
      "Pour le mot : top | (2, 0.0)\n",
      "Pour le mot : top | (3, 0.0)\n"
     ]
    },
    {
     "data": {
      "text/plain": [
       "{0: 0.2222222222222222, 1: 0.0, 2: 0.0, 3: 0.0}"
      ]
     },
     "execution_count": 177,
     "metadata": {},
     "output_type": "execute_result"
    }
   ],
   "source": [
    "vector_score(\"home sales top\", inverse_tfidf)"
   ]
  },
  {
   "cell_type": "code",
   "execution_count": null,
   "metadata": {},
   "outputs": [],
   "source": []
  },
  {
   "cell_type": "code",
   "execution_count": null,
   "metadata": {},
   "outputs": [],
   "source": []
  }
 ],
 "metadata": {
  "kernelspec": {
   "display_name": "Python 3",
   "language": "python",
   "name": "python3"
  },
  "language_info": {
   "codemirror_mode": {
    "name": "ipython",
    "version": 3
   },
   "file_extension": ".py",
   "mimetype": "text/x-python",
   "name": "python",
   "nbconvert_exporter": "python",
   "pygments_lexer": "ipython3",
   "version": "3.7.4"
  }
 },
 "nbformat": 4,
 "nbformat_minor": 5
}
